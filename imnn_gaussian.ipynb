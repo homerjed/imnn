{
 "cells": [
  {
   "cell_type": "code",
   "execution_count": 1,
   "metadata": {},
   "outputs": [],
   "source": [
    "from typing import List\n",
    "import jax\n",
    "import jax.numpy as jnp\n",
    "import jax.random as jr\n",
    "import equinox as eqx\n",
    "from jaxtyping import Array\n",
    "import optax\n",
    "import numpy as np\n",
    "import matplotlib.pyplot as plt\n",
    "from tqdm.notebook import trange\n",
    "from chainconsumer import Chain, ChainConsumer\n",
    "import tensorflow_probability.substrates.jax.distributions as tfd\n",
    "\n",
    "from imnn.utils import get_dataloaders, get_fiducials_derivatives_dataloaders\n",
    "from imnn.train import loss_fn, get_F, update"
   ]
  },
  {
   "cell_type": "code",
   "execution_count": 2,
   "metadata": {},
   "outputs": [],
   "source": [
    "class Linear(eqx.Module):\n",
    "    weight: Array\n",
    "    bias: Array\n",
    "\n",
    "    def __init__(self, in_size, out_size, *, key):\n",
    "        key_w, _ = jr.split(key)\n",
    "        self.weight = jr.normal(key_w, (out_size, in_size)) \n",
    "        self.bias = jnp.zeros((out_size,))\n",
    "\n",
    "    def __call__(self, x):\n",
    "        return self.weight @ x + self.bias\n",
    "\n",
    "class IMNN(eqx.Module):\n",
    "    layers: List\n",
    "\n",
    "    def __init__(self, in_size, out_size, width_size, depth, activation, *, key):\n",
    "        layers = []\n",
    "        dimensions = [in_size] + [width_size] * depth + [out_size]\n",
    "        for _in, _out in zip(dimensions[:-1], dimensions[1:]):\n",
    "            key, _key = jr.split(key)\n",
    "            layers.append(eqx.nn.Linear(_in, _out, key=_key))\n",
    "            layers.append(activation)\n",
    "        self.layers = tuple(layers[:-1])\n",
    "\n",
    "    def __call__(self, d):\n",
    "        for l in self.layers:\n",
    "            d = l(d)\n",
    "        return d"
   ]
  },
  {
   "cell_type": "code",
   "execution_count": 3,
   "metadata": {},
   "outputs": [],
   "source": [
    "key = jr.PRNGKey(0)\n",
    "\n",
    "parameter_names = [r\"$\\sigma$\"]\n",
    "alpha = jnp.array([1.])\n",
    "prior = tfd.Uniform(low=0., high=10.)"
   ]
  },
  {
   "cell_type": "code",
   "execution_count": 4,
   "metadata": {},
   "outputs": [],
   "source": [
    "data_dim = 10\n",
    "n_s = 8000\n",
    "n_d = 800 # Derivatives\n",
    "\n",
    "def simulator(sigma, key):\n",
    "    return jr.normal(key, (data_dim,)) * sigma\n",
    "\n",
    "# Generate simulations/derivatives at fiducial parameters\n",
    "keys = jr.split(key, n_s)\n",
    "alphas = jnp.tile(alpha, (len(keys), 1))\n",
    "\n",
    "fiducials = jax.vmap(simulator)(alphas, keys)\n",
    "\n",
    "derivatives = jax.vmap(jax.jacfwd(simulator, argnums=0))(alphas, keys)\n",
    "derivatives = derivatives[:n_d].reshape(n_d, 1, data_dim)"
   ]
  },
  {
   "cell_type": "code",
   "execution_count": 5,
   "metadata": {},
   "outputs": [
    {
     "name": "stdout",
     "output_type": "stream",
     "text": [
      "F_est, F_true [[0.00873913]] [[5.]]\n",
      "log|F| true (sign, abs det.) 1.609438\n"
     ]
    }
   ],
   "source": [
    "# Calculate analytic Fisher information as well as estimate from measurements\n",
    "C = jnp.cov(fiducials, rowvar=False)\n",
    "H = (n_s - data_dim - 2) / n_s\n",
    "Cinv = H * jnp.linalg.inv(C)\n",
    "\n",
    "dmu = derivatives.mean(axis=0)\n",
    "\n",
    "F_est = jnp.linalg.multi_dot([dmu, Cinv, dmu.T])\n",
    "F_true = jnp.array([[0.5 * data_dim]]) / jnp.square(alpha)\n",
    "Finv_true = jnp.linalg.inv(F_true)\n",
    "\n",
    "# True analytic Fisher information for likelihood \n",
    "log_F_true = jnp.linalg.slogdet(F_true)\n",
    "log_F_true = log_F_true[0] * log_F_true[1]\n",
    "\n",
    "print(\"F_est, F_true\", F_est, F_true)\n",
    "print(\"log|F| true (sign, abs det.)\", log_F_true)"
   ]
  },
  {
   "cell_type": "code",
   "execution_count": 6,
   "metadata": {},
   "outputs": [],
   "source": [
    "# Training loop for simple IMNN\n",
    "split = 0.5 \n",
    "batch_size = 1000\n",
    "batch_size_dd = 800\n",
    "lr = 3.e-4 \n",
    "optimizer = optax.sgd(lr) #adam(lr) #adamw(lr, weight_decay=0.001)\n",
    "patience = 5\n",
    "n_epochs = 2_000\n",
    "\n",
    "n_s, data_dim = fiducials.shape\n",
    "n_derivatives, *_ = derivatives.shape\n",
    "\n",
    "key, model_key = jr.split(key)\n",
    "\n",
    "f = IMNN(\n",
    "    in_size=fiducials.shape[-1], \n",
    "    out_size=alpha.size, \n",
    "    width_size=5, \n",
    "    depth=2, \n",
    "    activation=jax.nn.relu, \n",
    "    key=model_key\n",
    ")\n",
    "\n",
    "# Need dataloader to return (d, d(data)/dalpha, alpha),\n",
    "# during training alpha is always alpha^0\n",
    "n_train = int(split * n_s) - n_derivatives \n",
    "n_valid = n_s - n_train\n",
    "\n",
    "# Split derivatives (same as in dataloaders)\n",
    "dd_train, dd_valid = jnp.split(\n",
    "    derivatives, [int(split * n_derivatives)]\n",
    ")\n",
    "fiducials_train, fiducials_valid = jnp.split(\n",
    "    fiducials[:n_derivatives], [int(split * n_derivatives)]\n",
    ")\n",
    "\n",
    "grad_fn = eqx.filter_value_and_grad(loss_fn, has_aux=True)"
   ]
  },
  {
   "cell_type": "code",
   "execution_count": 7,
   "metadata": {},
   "outputs": [
    {
     "data": {
      "application/vnd.jupyter.widget-view+json": {
       "model_id": "8abda9aba6a6484f9ebee546bd44473d",
       "version_major": 2,
       "version_minor": 0
      },
      "text/plain": [
       "  0%|          | 0/2000 [00:00<?, ?it/s]"
      ]
     },
     "metadata": {},
     "output_type": "display_data"
    }
   ],
   "source": [
    "key, key_data, key_dd = jr.split(key, 3)\n",
    "\n",
    "# Initialise model + optimiser\n",
    "opt_state = optimizer.init(eqx.filter(f, eqx.is_inexact_array))\n",
    "\n",
    "_d0_train, _d0_valid = jnp.split(\n",
    "    fiducials[n_derivatives:], [int(split * (n_s - n_derivatives))]\n",
    ")\n",
    "\n",
    "# Dataloaders for paired fiducial data and their derivatives\n",
    "fids_dd_dl_train, fids_dd_dl_valid = get_fiducials_derivatives_dataloaders(\n",
    "    key_dd, (fiducials_train, dd_train), (fiducials_valid, dd_valid)\n",
    ")\n",
    "\n",
    "# Dataloaders of fiducials for epoch, not using first N belonging to derivatives\n",
    "train_dl, valid_dl = get_dataloaders(key_data, _d0_train, _d0_valid)\n",
    "\n",
    "# Fisher determinant + summary covariance metric\n",
    "metrics = np.zeros((n_epochs, 2))\n",
    "\n",
    "# Early stopping stuff\n",
    "best_F = -jnp.inf \n",
    "\n",
    "# Patience counter\n",
    "counter = 0\n",
    "\n",
    "with trange(n_epochs) as epochs:\n",
    "    for e in epochs:\n",
    "        # Epoch metrics\n",
    "        L_steps_train, L_steps_valid = [], [] \n",
    "\n",
    "        # Train\n",
    "        for d0_train, fdd_train, n in zip(\n",
    "            train_dl.loop(batch_size), \n",
    "            fids_dd_dl_train.loop(batch_size_dd), \n",
    "            range(train_dl.n_batches(batch_size))\n",
    "        ):\n",
    "            # d(-|F(x)| + |C(x)|)/d(phi)\n",
    "            (L, (L_F, L_C, *_)), dLdp = grad_fn(\n",
    "                f, d0=d0_train, fiducials_and_derivatives=fdd_train\n",
    "            )\n",
    "            f, opt_state = update(f, dLdp, opt_state, optimizer)\n",
    "\n",
    "            L_steps_train.append((L_F, L_C))\n",
    "\n",
    "        # Validate\n",
    "        for d0_valid, fdd_valid, n in zip(\n",
    "            valid_dl.loop(batch_size), \n",
    "            fids_dd_dl_valid.loop(batch_size_dd), \n",
    "            range(valid_dl.n_batches(batch_size))\n",
    "        ):\n",
    "            L_valid, (L_valid_F, L_valid_C, *_) = loss_fn(\n",
    "                f, d0=d0_valid, fiducials_and_derivatives=fdd_valid\n",
    "            )\n",
    "\n",
    "            L_steps_valid.append((L_valid_F, L_valid_C))\n",
    "\n",
    "        # Store metrics\n",
    "        epoch_F, epoch_C = jnp.asarray(L_steps_train).mean(axis=0)\n",
    "        epoch_valid_F, epoch_valid_C = jnp.asarray(L_steps_valid).mean(axis=0)\n",
    "\n",
    "        metrics[e] = (epoch_F, epoch_valid_F)\n",
    "\n",
    "        epochs.set_description(\n",
    "            f\"\\re={e:04d}\" +\n",
    "            f\" |F|={epoch_F:.3E}\" + \n",
    "            f\" |F_v|={epoch_valid_F:.3E}\" + \n",
    "            f\" |F_b|={best_F:.3E}\" + \n",
    "            f\" c={patience - counter}\"\n",
    "        )\n",
    "\n",
    "        # Test patience: note minimising -|F| so compare |F| from validation\n",
    "        if epoch_valid_F > best_F:\n",
    "            best_F = epoch_valid_F \n",
    "            counter = 0\n",
    "        else:\n",
    "            counter = counter + 1\n",
    "            if counter >= patience:\n",
    "                epochs.set_description(\n",
    "                    f\"\\nStopping training at epoch {e}, |F_t|={epoch_F:.3E}, |F_v|={epoch_valid_F:.3E}.\"\n",
    "                )\n",
    "                break"
   ]
  },
  {
   "cell_type": "code",
   "execution_count": 8,
   "metadata": {},
   "outputs": [
    {
     "data": {
      "image/png": "[encoded data removed]",
      "text/plain": [
       "<Figure size 640x480 with 1 Axes>"
      ]
     },
     "metadata": {},
     "output_type": "display_data"
    }
   ],
   "source": [
    "F_t, F_v = metrics[:e].T\n",
    "plt.plot(F_t)\n",
    "plt.plot(F_v)\n",
    "plt.axhline(log_F_true, linestyle=\"--\", color=\"k\")\n",
    "plt.show()"
   ]
  },
  {
   "cell_type": "code",
   "execution_count": 9,
   "metadata": {},
   "outputs": [
    {
     "data": {
      "text/plain": [
       "0.7053595781326294"
      ]
     },
     "execution_count": 9,
     "metadata": {},
     "output_type": "execute_result"
    }
   ],
   "source": [
    "F, _ = get_F(fiducials, f, (fiducials[:len(derivatives)], derivatives))\n",
    "\n",
    "a, b = jnp.linalg.slogdet(F)\n",
    "log_F_f = a * b\n",
    "\n",
    "(jnp.exp(log_F_true) / jnp.exp(log_F_f)).item()"
   ]
  },
  {
   "cell_type": "code",
   "execution_count": 10,
   "metadata": {},
   "outputs": [
    {
     "data": {
      "image/png": "[encoded data removed]",
      "text/plain": [
       "<Figure size 500x500 with 1 Axes>"
      ]
     },
     "metadata": {},
     "output_type": "display_data"
    }
   ],
   "source": [
    "c = ChainConsumer()\n",
    "c.add_chain(\n",
    "    Chain.from_covariance(\n",
    "        alpha,\n",
    "        Finv_true,\n",
    "        columns=parameter_names,\n",
    "        name=r\"$F(\\sigma)$\",\n",
    "        color=\"k\",\n",
    "        linestyle=\":\"\n",
    "    )\n",
    ")\n",
    "c.add_chain(\n",
    "    Chain.from_covariance(\n",
    "        alpha,\n",
    "        jnp.linalg.inv(F),\n",
    "        columns=parameter_names,\n",
    "        name=r\"$F_{\\text{IMNN}}(\\hat{\\sigma})$\",\n",
    "        color=\"r\",\n",
    "    )\n",
    ")\n",
    "fig = c.plotter.plot()"
   ]
  }
 ],
 "metadata": {
  "kernelspec": {
   "display_name": ".venv",
   "language": "python",
   "name": "python3"
  },
  "language_info": {
   "codemirror_mode": {
    "name": "ipython",
    "version": 3
   },
   "file_extension": ".py",
   "mimetype": "text/x-python",
   "name": "python",
   "nbconvert_exporter": "python",
   "pygments_lexer": "ipython3",
   "version": "3.12.4"
  },
  "orig_nbformat": 4
 },
 "nbformat": 4,
 "nbformat_minor": 2
}
